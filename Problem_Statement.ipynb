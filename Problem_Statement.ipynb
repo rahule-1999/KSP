{
 "cells": [
  {
   "cell_type": "markdown",
   "id": "39b21400",
   "metadata": {},
   "source": [
    "# Dark Matter Mass in a distant Galaxy"
   ]
  },
  {
   "attachments": {},
   "cell_type": "markdown",
   "id": "0120c8ef",
   "metadata": {},
   "source": [
    "Galaxies follow a well-modelled distribution of stars and their masses as a function of distance from the galaxy centre. These together create a gravitational potential of the galaxy in which the stars revolve. However, observed stellar revolution rates are in stark disagreement with calculated values. This discrepancy can be attributed to the presence of dark matter halo around the galaxy, which creates a potential that fits with the observed velocities.\n",
    "\n",
    "Your task in this assignment is to estimate the amount of dark matter in the halo of a distant galaxy, KriGal. "
   ]
  },
  {
   "attachments": {},
   "cell_type": "markdown",
   "id": "cc58f3d7",
   "metadata": {},
   "source": [
    "## Finding the radius-velocity curve\n",
    "\n",
    "The following file(darkmatter.csv) contains observation data of the stars, a small section of which belong to the galaxy KriGal. Open the file and take a look to get an idea of what observations were made. Such data for stars this far are in practice impossible to measure with such precision, but were made possible for the first time in the history of space observation with KIT (Krittika's Incredible Telescope).\n",
    "\n",
    "It is known the galaxy's centre has (RA, Dec) = $(140.76398^0, 75.5344^0)$\n",
    "\n",
    "Open the CSV file, find the relative RA/Dec difference of each star w.r.t. the galaxy's centre and convert all data to SI units - would be handy later on. \n"
   ]
  },
  {
   "cell_type": "code",
   "execution_count": 1,
   "id": "5d1096b6",
   "metadata": {},
   "outputs": [],
   "source": [
    "#code"
   ]
  },
  {
   "attachments": {},
   "cell_type": "markdown",
   "id": "db5f334d",
   "metadata": {},
   "source": [
    "Assume the galaxy is 3500 kpc (kiloparsecs) away and the centre of galaxy moves according to Hubble's law (H = $70$ km/s/Mpc). Note that the redshift $z$ is related to the radial velocity of any object as\n",
    "\n",
    "$$ z = \\sqrt{\\frac{c+v}{c-v}} - 1$$\n",
    "where $c$ = speed of light, and $v$ = velocity of object, taken positive when object moves away from us.\n",
    "\n",
    "Also 1 parsec = $3.083 \\times 10^{16}$ metres\n",
    "\n",
    "Using this, find the relative radial velocities of the stars w.r.t. the centre of galaxy.\n"
   ]
  },
  {
   "cell_type": "code",
   "execution_count": 3,
   "id": "a31becff",
   "metadata": {},
   "outputs": [],
   "source": [
    "#code"
   ]
  },
  {
   "attachments": {},
   "cell_type": "markdown",
   "id": "14563574",
   "metadata": {},
   "source": [
    "Use the previous information to find the tangential velocities of the stars. \n",
    "\n",
    "Assume the stars move in perfectly circular orbits and we view the galaxy edge-on i.e. to us the star trajectories appear like line segments."
   ]
  },
  {
   "cell_type": "code",
   "execution_count": 4,
   "id": "7b2cee7c",
   "metadata": {},
   "outputs": [],
   "source": [
    "#code"
   ]
  },
  {
   "attachments": {},
   "cell_type": "markdown",
   "id": "1cdb9fe2",
   "metadata": {},
   "source": [
    "Now find the angular separation from galaxy centre to each star and use that to find the tangential separation (in length units) from the galaxy centre."
   ]
  },
  {
   "cell_type": "code",
   "execution_count": 5,
   "id": "37af7502",
   "metadata": {},
   "outputs": [],
   "source": [
    "#code"
   ]
  },
  {
   "attachments": {},
   "cell_type": "markdown",
   "id": "e72a1634",
   "metadata": {},
   "source": [
    "Find total velocity of each star w.r.t. galaxy centre.\n",
    "\n",
    "Using angle information obtained from velocity components (assume circular orbits) and tangential distance, find the radial distance and hence the total distance of each star w.r.t. galaxy centre.\n",
    "\n",
    "Make a scatter plot of velocity v/s radius."
   ]
  },
  {
   "cell_type": "code",
   "execution_count": 6,
   "id": "71249d31",
   "metadata": {
    "scrolled": false
   },
   "outputs": [],
   "source": [
    "#code"
   ]
  },
  {
   "cell_type": "markdown",
   "id": "527a532b",
   "metadata": {},
   "source": [
    "## Finding halo parameters using the curve\n",
    "\n",
    "If you have got correctly so far, you would have got a set of points that follow what is known as the **galaxy rotation curve**, a curve that rises steeply first, curves and becomes almost constant from around midway. This rotation curve is evidence for the dark matter halo. The halo is taken to be spherical with the centre at galaxy's centre, with radial density profile given by the [Navarro-Frenk-White (NFW) profile](https://en.wikipedia.org/wiki/Navarro%E2%80%93Frenk%E2%80%93White_profile):\n",
    "\n",
    "$$ \\rho (r) = \\frac{\\rho_0}{\\frac{r}{R_s}\\left( 1 + \\frac{r}{R_s}\\right)^2} $$\n",
    "\n",
    "where $R_s$ is a scale radius whose value is comparable to the radius of the galaxy (i.e. same order of magnitude).\n",
    "\n",
    "From the density profile, find the expression for mass $M_r$ enclosed in a sphere of radius $r$ (you may include it in a handwritten page photo). Using this find the expression for velocity of a star at radius $r$. Recall that \n",
    "$$ \\frac{v^2}{r} = \\frac{GM_r}{r^2} $$"
   ]
  },
  {
   "cell_type": "markdown",
   "id": "afcbd213",
   "metadata": {},
   "source": [
    "Once you have the velocity profile, using scipy's curve fitting function (google for syntax and uses!) find the best fit value of $R_s$. You are given that the value of $\\rho_0$ is $0.02$ solar masses per cubic parsec. Again, convert it to SI units before processing."
   ]
  },
  {
   "cell_type": "code",
   "execution_count": 7,
   "id": "ddf7550b",
   "metadata": {},
   "outputs": [],
   "source": [
    "#code"
   ]
  },
  {
   "cell_type": "markdown",
   "id": "493ff83d",
   "metadata": {},
   "source": [
    "Plot the actual vs curve-fitted plots of velocity and radius. If you have passed only the three required arguments to curve-fit (function name, input and output) you will (likely) notice it doesn't work at all and gives an impossible value for $R_s$! (If you get a good fit in the first try itself, that's great!)\n",
    "\n",
    "This happens because scipy's initial guess for the parameter is 1 (metre), which is nowhere near the actual value on the order of kiloparsecs. Look up scipy's syntax to see how we can pass in an initial guess ourselves. Now pass on an initial guess (given that you know it's on the order of kiloparsecs) to curve fit. "
   ]
  },
  {
   "cell_type": "code",
   "execution_count": 8,
   "id": "b261966f",
   "metadata": {},
   "outputs": [],
   "source": [
    "#code"
   ]
  },
  {
   "cell_type": "markdown",
   "id": "eb9994f1",
   "metadata": {},
   "source": [
    "Although the dark matter halo nominally has no end, we define the boundary of the halo to be the radius $R_{vir}$ where the **mean** density of the sphere of radius $R_{vir}$ merges with the background density of the Universe. Write a function calculating mean density for a radius $r$, and find the density at $50R_s$."
   ]
  },
  {
   "cell_type": "code",
   "execution_count": 9,
   "id": "f718cd38",
   "metadata": {},
   "outputs": [],
   "source": [
    "#code"
   ]
  },
  {
   "cell_type": "markdown",
   "id": "ae4d6114",
   "metadata": {},
   "source": [
    "The background density of the Universe is $8.5 \\times 10^{-27}$ in SI units. We take the virial radius to be where mean density of sphere is equal to 50 times background density. Find the value of virial radius at which this happens.\n",
    "\n",
    "Getting an analytical expression for radius from the mean density equation can be difficult. You can either use a numerical solver like Desmos, or more preferably, tweak around with a few values of radius in the mean density function you wrote till you get a density around 40-60 times the background density. Round off to the nearest multiple of $10R_s$."
   ]
  },
  {
   "cell_type": "code",
   "execution_count": 10,
   "id": "a25a5a15",
   "metadata": {},
   "outputs": [],
   "source": [
    "#code"
   ]
  },
  {
   "cell_type": "markdown",
   "id": "193017db",
   "metadata": {},
   "source": [
    "Using this virial radius, find the total mass contained inside the sphere i.e. the mass of dark matter in the galaxy"
   ]
  },
  {
   "cell_type": "code",
   "execution_count": 11,
   "id": "b68e4bdc",
   "metadata": {},
   "outputs": [],
   "source": [
    "#code"
   ]
  }
 ],
 "metadata": {
  "kernelspec": {
   "display_name": "Python 3 (ipykernel)",
   "language": "python",
   "name": "python3"
  },
  "language_info": {
   "codemirror_mode": {
    "name": "ipython",
    "version": 3
   },
   "file_extension": ".py",
   "mimetype": "text/x-python",
   "name": "python",
   "nbconvert_exporter": "python",
   "pygments_lexer": "ipython3",
   "version": "3.9.13"
  }
 },
 "nbformat": 4,
 "nbformat_minor": 5
}
